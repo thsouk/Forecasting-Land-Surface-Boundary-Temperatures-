{
  "nbformat": 4,
  "nbformat_minor": 0,
  "metadata": {
    "colab": {
      "name": "Forecasting Temperatures.ipynb",
      "provenance": []
    },
    "kernelspec": {
      "name": "python3",
      "display_name": "Python 3"
    },
    "language_info": {
      "name": "python"
    }
  },
  "cells": [
    {
      "cell_type": "markdown",
      "source": [
        "# The Problem\n",
        "\n",
        "***We hope to provide a convinient and efficient way to forecast land-atmosphere boundary temperatures by utilizaing the ConvLSTM architecture over the region of Crete and for long temporal periods.***\n",
        "\n",
        "In this work we used three different bands which share physical and chemical relation. \n",
        "\n",
        "\n",
        "\n",
        "1.   **Temperature of air at 2m height**\n",
        "2.   **Skin Temperature which is essentially the surface temperature of earth**\n",
        "3.   **Soil Temperature at the 1st level**\n",
        "\n"
      ],
      "metadata": {
        "id": "03fZu4fa5XVq"
      }
    },
    {
      "cell_type": "markdown",
      "source": [
        "# Accessing Data\n",
        "\n",
        "First we have to gain access to google drive, where our data are stored. In the next coding codeing cell we mount google drive.\n",
        "\n",
        "***An alternative is to always upload our data directly to this google drive but this process has to occur everytime after we restore runtime***"
      ],
      "metadata": {
        "id": "F7d5B62G2-p8"
      }
    },
    {
      "cell_type": "code",
      "execution_count": null,
      "metadata": {
        "colab": {
          "base_uri": "https://localhost:8080/"
        },
        "id": "_F0nnqxYm-IO",
        "outputId": "06d76588-5105-4430-aa75-7f86fe7d3516"
      },
      "outputs": [
        {
          "output_type": "stream",
          "name": "stdout",
          "text": [
            "Mounted at /gdrive\n",
            "/gdrive\n"
          ]
        }
      ],
      "source": [
        "#Mount google drive\n",
        "from google.colab import drive\n",
        "#For authentication \n",
        "drive.mount('/gdrive')\n",
        "%cd /gdrive"
      ]
    },
    {
      "cell_type": "markdown",
      "source": [
        "# Data\n",
        "\n",
        "Our data are provided from the Google Earth Engine (GEE) platform and the ERA5 - Land Monthly Averaged dataset.\\\n",
        "\n",
        "The data are exported directly from the GEE platform in video format. We need a routine that can transform video to an array.\\\n",
        "\n",
        "scikit-video is state of the art library that serves this exact purpose "
      ],
      "metadata": {
        "id": "20dFEl2n_zCo"
      }
    },
    {
      "cell_type": "code",
      "execution_count": null,
      "metadata": {
        "colab": {
          "base_uri": "https://localhost:8080/"
        },
        "id": "4vpP5pBEun4h",
        "outputId": "9d0999dd-9795-4df8-a22c-7d933b84d287"
      },
      "outputs": [
        {
          "output_type": "stream",
          "name": "stdout",
          "text": [
            "Looking in indexes: https://pypi.org/simple, https://us-python.pkg.dev/colab-wheels/public/simple/\n",
            "Collecting scikit-video\n",
            "  Downloading scikit_video-1.1.11-py2.py3-none-any.whl (2.3 MB)\n",
            "\u001b[K     |████████████████████████████████| 2.3 MB 4.8 MB/s \n",
            "\u001b[?25hRequirement already satisfied: numpy in /usr/local/lib/python3.7/dist-packages (from scikit-video) (1.21.6)\n",
            "Requirement already satisfied: scipy in /usr/local/lib/python3.7/dist-packages (from scikit-video) (1.4.1)\n",
            "Requirement already satisfied: pillow in /usr/local/lib/python3.7/dist-packages (from scikit-video) (7.1.2)\n",
            "Installing collected packages: scikit-video\n",
            "Successfully installed scikit-video-1.1.11\n"
          ]
        }
      ],
      "source": [
        "# This library provides easy access to common as well as state-of-the-art video processing routines.\n",
        "\n",
        "! sudo pip install scikit-video"
      ]
    },
    {
      "cell_type": "markdown",
      "source": [
        "We are also going to utilize some libraries widely used in Data Science and Deep Learning applications and research. \n",
        "\n",
        "NumPy, Pandas, matplotlib are the important libraries we utilized"
      ],
      "metadata": {
        "id": "ut00eC9VATHI"
      }
    },
    {
      "cell_type": "code",
      "execution_count": null,
      "metadata": {
        "id": "z9Qw2WKinyxq"
      },
      "outputs": [],
      "source": [
        "import numpy as np\n",
        "import pandas as pd\n",
        "import matplotlib.pyplot as plt\n",
        "import math\n",
        "\n",
        "import tensorflow as tf\n",
        "from tensorflow import keras\n",
        "from tensorflow.keras import layers"
      ]
    },
    {
      "cell_type": "markdown",
      "source": [
        "The following coding block executes the transition from data in video format to an array."
      ],
      "metadata": {
        "id": "VgzggPjEAvx3"
      }
    },
    {
      "cell_type": "code",
      "execution_count": null,
      "metadata": {
        "colab": {
          "base_uri": "https://localhost:8080/"
        },
        "id": "6Gt9dCuArFGy",
        "outputId": "fefb55d7-71a0-4d43-ad77-c8eb9a3de15b"
      },
      "outputs": [
        {
          "output_type": "stream",
          "name": "stdout",
          "text": [
            "(8760, 12, 32, 3)\n"
          ]
        }
      ],
      "source": [
        "import skvideo.io\n",
        "videodata = skvideo.io.vread(\"/gdrive/MyDrive/Videos from GEE/20-20-32-100-1e6-21600-t2m-st-stl1-04-07-22-3-LHD--1--255--CRETE.mp4\")\n",
        "print(videodata.shape)"
      ]
    },
    {
      "cell_type": "markdown",
      "source": [
        "Our data are now a 4D Tensor.\n",
        "\n",
        "**(frames, rows, cols, channels)**"
      ],
      "metadata": {
        "id": "7l1F4xN3Bk13"
      }
    },
    {
      "cell_type": "markdown",
      "source": [
        "## Preparing the Data\n",
        "\n",
        "Because of ConvLSTM, tha architecture allows for 1 channel to be utilized and trained each time. \n",
        "\n",
        "We choose the first channel every time we train our model. Each time we use a different band as the first channel. The reaseon behind this is because in order to use the data correctly we have to consider the max and minimum temperatures (measured in Kelvin) of every layer of land and atmosphere and then normalize values between 0 and 255. (0 represents the coldest part of Crete and the most dark lit pixel of the heatmap and 255 the brightest lit pixel and the hottest part of Crete)\n"
      ],
      "metadata": {
        "id": "wZ_5L0kSDAFn"
      }
    },
    {
      "cell_type": "markdown",
      "source": [
        "### Data Format\n",
        "\n",
        "In order to utilize ConvLSTM we have to change our data from a 4D tensor to a 5D tensor.\n",
        "\n",
        "**(samples, frames, rows, cols,channels)** \n",
        "\n",
        "We used a lot of different variations of data format. In our case the best scenario with the smallest error occured in a a format of 6 frames per sample where overlap occured.\n",
        "\n",
        "i.e. \n",
        "\n",
        "n to n+5 frames in sample n\n",
        "     \n",
        "n+1 to n+6 frames in sample n+1\n",
        "\n",
        "n+2 to n+7 frames in sample n+2"
      ],
      "metadata": {
        "id": "Sz2dhxJRE_Rm"
      }
    },
    {
      "cell_type": "code",
      "execution_count": null,
      "metadata": {
        "colab": {
          "base_uri": "https://localhost:8080/"
        },
        "id": "E2Iu9KOekSKC",
        "outputId": "9111c512-5931-4545-e2f5-969ee0141904"
      },
      "outputs": [
        {
          "output_type": "stream",
          "name": "stdout",
          "text": [
            "out of loop\n",
            "Examples shape is the following: (1432, 8, 12, 32, 1)\n",
            "Dataset shape is the following: (1432, 8, 12, 32, 1)\n",
            "(1439, 12, 32, 1)\n"
          ]
        }
      ],
      "source": [
        "pre_examples = []\n",
        "dataset = []\n",
        "dataset = np.array(dataset)\n",
        "\n",
        "for i in range(videodata.shape[0]):\n",
        "  \n",
        "  #print(\"Value of i is \" + str(i))\n",
        "\n",
        "  if i <= (videodata.shape[0] - 6):\n",
        "\n",
        "    pre_data = videodata[i:i+6, :, :, :]\n",
        "    #print(\"\\nPre Data is the following\\n\")\n",
        "    #print(pre_data)\n",
        "    #print(\"\\nPre Data shape inside the for loop is the following: \" + str(pre_data.shape)+ \"\\n\")\n",
        "    pre_examples.append(pre_data)\n",
        "    #print(\"\\nPre Examples is the following \\n\")\n",
        "    #print(np.array(pre_examples))\n",
        "    #print(\"\\nPre Example - \" + str(i) +  \" - shape is the following: \" + str(np.array(pre_examples).shape) + \"\\n\")\n",
        "  \n",
        "  else:\n",
        "     break\n",
        "\n",
        "print('out of loop')\n",
        "\n",
        "#print(pre_examples)\n",
        "print(\"Examples shape is the following: \" + str(np.array(pre_examples).shape))\n",
        "\n",
        "dataset = np.array(pre_examples)\n",
        "#print(dataset)\n",
        "\n",
        "print(\"Dataset shape is the following: \" + str(dataset.shape))\n",
        "print(videodata.shape)"
      ]
    },
    {
      "cell_type": "markdown",
      "source": [
        "As expected we split data in training and testing.\n",
        "\n",
        "We used the first 90% of samples for training and the rest 10% for testing"
      ],
      "metadata": {
        "id": "HhfKJVqwHTLl"
      }
    },
    {
      "cell_type": "code",
      "execution_count": null,
      "metadata": {
        "colab": {
          "base_uri": "https://localhost:8080/"
        },
        "id": "3G6pziY2Pva6",
        "outputId": "e3e2add6-de74-449c-84bc-5a163ebdd3b8"
      },
      "outputs": [
        {
          "output_type": "stream",
          "name": "stdout",
          "text": [
            "(1002,)\n",
            "(430,)\n",
            "Train Dataset shape is: (1002, 8, 12, 32, 1)\n",
            "Test Dataset shape is: (430, 8, 12, 32, 1)\n"
          ]
        }
      ],
      "source": [
        "#Split Dataset into training and testing datasets\n",
        "indexes = np.arange(dataset.shape[0])\n",
        "\n",
        "#np.random.shuffle(indexes)\n",
        "train_index = indexes[: int(0.9 * dataset.shape[0])]\n",
        "\n",
        "train_index = train_index[:]\n",
        "print(train_index.shape)\n",
        "\n",
        "\n",
        "test_index = indexes[int(0.9 * dataset.shape[0]) :]\n",
        "\n",
        "train_dataset = dataset[train_index]\n",
        "print(test_index.shape)\n",
        "\n",
        "print(\"Train Dataset shape is: \" + str(train_dataset.shape))\n",
        "test_dataset = dataset[test_index]\n",
        "print(\"Test Dataset shape is: \" + str(test_dataset.shape))"
      ]
    },
    {
      "cell_type": "markdown",
      "source": [
        "Variations of such a split exist in large. We could use completely random samples for training and use the unused samples for testing. But our model did not show any improvement. "
      ],
      "metadata": {
        "id": "i3kaFdRZHhjs"
      }
    },
    {
      "cell_type": "code",
      "execution_count": null,
      "metadata": {
        "id": "d4l-vE_gYYO0"
      },
      "outputs": [],
      "source": [
        "# #Split Dataset into training and testing datasets\n",
        "# indexes = np.arange(dataset.shape[0])\n",
        "# np.random.shuffle(indexes)\n",
        "\n",
        "# #np.random.shuffle(indexes)\n",
        "# train_index = indexes[: int(0.9 * dataset.shape[0])]\n",
        "\n",
        "# train_index = train_index[:]\n",
        "# print(train_index.shape)\n",
        "\n",
        "\n",
        "# test_index = indexes[int(0.9 * dataset.shape[0]) :]\n",
        "\n",
        "# train_dataset = dataset[train_index]\n",
        "# print(test_index.shape)\n",
        "\n",
        "# print(\"Train Dataset shape is: \" + str(train_dataset.shape))\n",
        "# test_dataset = dataset[test_index]\n",
        "# print(\"Test Dataset shape is: \" + str(test_dataset.shape))"
      ]
    },
    {
      "cell_type": "markdown",
      "source": [
        "We normalize our data between 0 and 1 as it is accustomed in ML and DL problems. There is a deeper reason for following scaling our data. ConvLSTM makes use of a sigmoid which is a function with output values between 0 and 1."
      ],
      "metadata": {
        "id": "5z4xaaA7Hy1l"
      }
    },
    {
      "cell_type": "code",
      "execution_count": null,
      "metadata": {
        "id": "lrCcr__TTSwe"
      },
      "outputs": [],
      "source": [
        "#Pixel values normalization\n",
        "train_dataset = train_dataset / 255.0\n",
        "test_dataset = test_dataset / 255.0\n",
        "videodata = videodata / 255.0"
      ]
    },
    {
      "cell_type": "markdown",
      "source": [
        "In this particular coding block we split our data per sample. \n",
        "\n",
        "We desire to use the first 5 frames per sample as input and the last as output.\n",
        "In order to only use the last frame as output we we will set as \"True\" the return sequences argument in our mopel.\n",
        "\n",
        "We will show this in a next cell."
      ],
      "metadata": {
        "id": "gcGAQCZCIyH0"
      }
    },
    {
      "cell_type": "code",
      "execution_count": null,
      "metadata": {
        "colab": {
          "base_uri": "https://localhost:8080/"
        },
        "id": "k1g-y8L-ZMxZ",
        "outputId": "c52c0d4a-da52-46fd-c0d8-dfa9f9f42ef0"
      },
      "outputs": [
        {
          "output_type": "stream",
          "name": "stdout",
          "text": [
            "Training Dataset Shape is: (1002, 7, 12, 32, 1), (1002, 7, 12, 32, 1)\n",
            "Testing Dataset Shape is: (430, 7, 12, 32, 1), (430, 7, 12, 32, 1)\n"
          ]
        }
      ],
      "source": [
        "#Define a function so that x is the first five frames and y is the sixth frame\n",
        "#Those are inputs for the the training process\n",
        "def assign_frames(data):\n",
        "  x = data[:, 0 : dataset.shape[1] - 1, :, :, :]\n",
        "  y = data[:, 1 : dataset.shape[1], :, :, :]\n",
        "  return x, y\n",
        "\n",
        "x_train, y_train = assign_frames(train_dataset)\n",
        "\n",
        "print(\"Training Dataset Shape is: \" + str(x_train.shape) + \", \" + str(y_train.shape))\n",
        "x_test, y_test = assign_frames(test_dataset)\n",
        "print(\"Testing Dataset Shape is: \" + str(x_test.shape) + \", \" + str(y_test.shape))"
      ]
    },
    {
      "cell_type": "markdown",
      "source": [
        "## Data Visualization\n",
        "\n",
        "We make a first visualization of our data. We randomly choose samples and  visualize every frame in said sample."
      ],
      "metadata": {
        "id": "yDlnfsBnJV--"
      }
    },
    {
      "cell_type": "code",
      "execution_count": null,
      "metadata": {
        "id": "aYn276jvgVjt"
      },
      "outputs": [],
      "source": [
        "# Data visualization\n",
        "for i in range (0, 4):\n",
        "  \n",
        "  fig, axes = plt.subplots(1, 6, figsize = (10,8))\n",
        "  \n",
        "  # Plot each of the sequential images for one random data example.\n",
        "  \n",
        "  data_choice = np.random.choice(train_dataset.shape[0], size = 1)[0]\n",
        "  print(data_choice)\n",
        "  \n",
        "  for idx, ax in enumerate(axes.flat):\n",
        "    \n",
        "    image = ax.imshow(np.squeeze(train_dataset[data_choice][i]), cmap=\"hot\")\n",
        "    ax.set_title(f\"Frame {idx + 1}\")\n",
        "    ax.axis(\"off\")\n",
        "    \n",
        "  print(f\"Displaying frames for example/sample {data_choice}.\")\n",
        "  plt.show()"
      ]
    },
    {
      "cell_type": "markdown",
      "source": [
        "In the next three cells we visualize the time evolution of pixel value. We need to show that this evolution follows a trend simillar to a sin function. \n",
        "\n",
        "We then compare this time evolution to a visualization of the same pixels but the dataframe point of view. We extract via the GEE platform a dataframe for the pixels that correspond to A.  "
      ],
      "metadata": {
        "id": "8M0YfqAJJxoc"
      }
    },
    {
      "cell_type": "code",
      "execution_count": null,
      "metadata": {
        "id": "JKWIvs2GG5jw"
      },
      "outputs": [],
      "source": [
        "A = videodata\n",
        "A = np.swapaxes(A, 0, 2)\n",
        "print(A.shape)\n",
        "A = A[16][6][:]\n",
        "print(A.shape)\n",
        "plt.plot(A)\n",
        "plt.xlabel(\"Number of frames\")\n",
        "plt.ylabel(\"Pixel Value\")\n",
        "plt.title(\"Time evolution of pixel value\")\n",
        "plt.show\n"
      ]
    },
    {
      "cell_type": "code",
      "execution_count": null,
      "metadata": {
        "id": "OhVtPqB0Iu32"
      },
      "outputs": [],
      "source": [
        "B = new_videodata\n",
        "B = np.swapaxes(B, 0, 2)\n",
        "print(B.shape)\n",
        "B = B[10][6][:]\n",
        "print(B.shape)\n",
        "plt.xlabel(\"Number of frames\")\n",
        "plt.ylabel(\"Pixel Value\")\n",
        "plt.title(\"Time evolution of pixel value\")\n",
        "plt.show\n",
        "plt.plot(B)\n",
        "plt.show"
      ]
    },
    {
      "cell_type": "code",
      "execution_count": null,
      "metadata": {
        "id": "FjMbY7ziJQMM"
      },
      "outputs": [],
      "source": [
        "C = new_videodata\n",
        "C = np.swapaxes(C, 0, 2)\n",
        "print(C.shape)\n",
        "C = C[5][5][:]\n",
        "print(C.shape)\n",
        "plt.xlabel(\"Number of frames\")\n",
        "plt.ylabel(\"Pixel Value\")\n",
        "plt.title(\"Time evolution of pixel value\")\n",
        "plt.show\n",
        "plt.plot(C)\n",
        "plt.show"
      ]
    },
    {
      "cell_type": "markdown",
      "source": [
        "We use the pandas library to access the dataframe from GEE."
      ],
      "metadata": {
        "id": "-3eK8EqdKhm0"
      }
    },
    {
      "cell_type": "code",
      "execution_count": null,
      "metadata": {
        "id": "2dMFYYdlM0YO"
      },
      "outputs": [],
      "source": [
        "data_panda = pd.read_csv(\"/gdrive/MyDrive/CSV folders of GEE/16-20 LMAHD t2m.csv\")"
      ]
    },
    {
      "cell_type": "code",
      "execution_count": null,
      "metadata": {
        "id": "0SSArskaNjFa"
      },
      "outputs": [],
      "source": [
        "data_panda.plot.line(x='Time',y='temperature_2m',color='blue',legend=None)\n",
        "plt.xticks(rotation=45)\n",
        "plt.ylabel('Tempereture 2m (K)')\n",
        "plt.xlabel('Time (Years)')\n",
        "plt.title('Time Evolution of air temperature at 2m above ground level over Heraklion')\n",
        "plt.show()"
      ]
    },
    {
      "cell_type": "markdown",
      "source": [
        "# The ConvLSTM Model\n",
        "\n",
        "ConvLSTM is a model that the operation of convolution has replaced matrix multiplications of the LSTM architecture.\n",
        "\n"
      ],
      "metadata": {
        "id": "iceveCNlKr97"
      }
    },
    {
      "cell_type": "code",
      "execution_count": null,
      "metadata": {
        "id": "5F7XrKhKlBPF"
      },
      "outputs": [],
      "source": [
        "# Construct the input layer with no definite frame size.\n",
        "inp = layers.Input(shape=(None, *x_train.shape[2:]))\n",
        "\n",
        "# We will construct 3 `ConvLSTM2D` layers with batch normalization,\n",
        "# followed by a `Conv3D` layer for the spatiotemporal outputs.\n",
        "x = layers.ConvLSTM2D(\n",
        "    filters=64,\n",
        "    kernel_size=(5, 5),\n",
        "    padding=\"same\",\n",
        "    return_sequences=True,\n",
        "    activation=\"relu\",\n",
        ")(inp)\n",
        "x = layers.BatchNormalization()(x)\n",
        "x = layers.ConvLSTM2D(\n",
        "    filters=64,\n",
        "    kernel_size=(3, 3),\n",
        "    padding=\"same\",\n",
        "    return_sequences=True,\n",
        "    activation=\"relu\",\n",
        ")(x)\n",
        "x = layers.BatchNormalization()(x)\n",
        "x = layers.ConvLSTM2D(\n",
        "    filters=64,\n",
        "    kernel_size=(1, 1),\n",
        "    padding=\"same\",\n",
        "    return_sequences=True,\n",
        "    activation=\"relu\",\n",
        ")(x)\n",
        "x = layers.Conv3D(\n",
        "    filters=1, kernel_size=(3, 3, 3), activation=\"sigmoid\", padding=\"same\"\n",
        ")(x)\n",
        "\n",
        "# Next, we will build the complete model and compile it.\n",
        "model = keras.models.Model(inp, x)\n",
        "model.compile(\n",
        "    loss=keras.losses.mean_squared_error, optimizer=keras.optimizers.Adam(0.0001))"
      ]
    },
    {
      "cell_type": "code",
      "execution_count": null,
      "metadata": {
        "id": "abM1bmpmn6J3"
      },
      "outputs": [],
      "source": [
        "model.summary()"
      ]
    },
    {
      "cell_type": "code",
      "execution_count": null,
      "metadata": {
        "colab": {
          "base_uri": "https://localhost:8080/"
        },
        "id": "TDoNaOz1lMTD",
        "outputId": "2ab71731-c25a-4cf2-8337-4e3756fb2904"
      },
      "outputs": [
        {
          "output_type": "stream",
          "name": "stdout",
          "text": [
            "Epoch 1/10\n",
            "101/101 [==============================] - 67s 599ms/step - loss: 0.0536 - lr: 1.0000e-04\n",
            "Epoch 2/10\n",
            "101/101 [==============================] - 60s 598ms/step - loss: 0.0047 - lr: 1.0000e-04\n",
            "Epoch 3/10\n",
            "101/101 [==============================] - 61s 604ms/step - loss: 0.0024 - lr: 1.0000e-04\n",
            "Epoch 4/10\n",
            "101/101 [==============================] - 63s 619ms/step - loss: 0.0018 - lr: 1.0000e-04\n",
            "Epoch 5/10\n",
            "101/101 [==============================] - 61s 607ms/step - loss: 0.0012 - lr: 1.0000e-04\n",
            "Epoch 6/10\n",
            "101/101 [==============================] - 61s 602ms/step - loss: 0.0011 - lr: 1.0000e-04\n",
            "Epoch 7/10\n",
            "101/101 [==============================] - 61s 608ms/step - loss: 9.1326e-04 - lr: 1.0000e-04\n",
            "Epoch 8/10\n",
            "101/101 [==============================] - 61s 602ms/step - loss: 8.7085e-04 - lr: 1.0000e-04\n",
            "Epoch 9/10\n",
            "101/101 [==============================] - 61s 609ms/step - loss: 6.6367e-04 - lr: 1.0000e-04\n",
            "Epoch 10/10\n",
            "101/101 [==============================] - 62s 613ms/step - loss: 6.1713e-04 - lr: 1.0000e-04\n"
          ]
        }
      ],
      "source": [
        "# Define some callbacks to improve training.\n",
        "#early_stopping = keras.callbacks.EarlyStopping(monitor=\"accuracy\", patience=10)\n",
        "reduce_lr = keras.callbacks.ReduceLROnPlateau(monitor=\"loss\", patience = 2)\n",
        "\n",
        "# Define modifiable training hyperparameters.\n",
        "epochs = 10\n",
        "batch_size = 10\n",
        "\n",
        "# Fit the model to the training data.\n",
        "history = model.fit(x_train, y_train, epochs = epochs, batch_size = batch_size, callbacks = [reduce_lr])"
      ]
    },
    {
      "cell_type": "code",
      "execution_count": null,
      "metadata": {
        "colab": {
          "base_uri": "https://localhost:8080/"
        },
        "id": "fHrHbWQyzCxf",
        "outputId": "de2d7195-4186-4b0a-d628-e49f4400d2fd"
      },
      "outputs": [
        {
          "output_type": "stream",
          "name": "stdout",
          "text": [
            "dict_keys(['loss', 'lr'])\n"
          ]
        }
      ],
      "source": [
        "print(history.history.keys())"
      ]
    },
    {
      "cell_type": "markdown",
      "source": [
        "# Results\n",
        "\n",
        "We will evaluate our model by comparing the last frame from each samle in the testing dataset to every reconstructed prediction based on the first five frames from each sample.\n",
        "\n",
        "We eill use the MSE and RMSE to keep track of the loss for the whole testing dataset and we will evaluate the precision and accuracy of each reconstructed image and how close it ressembles reality by using the Peak Signal to Noise Ratio (PSNR)."
      ],
      "metadata": {
        "id": "T335jPuetaUA"
      }
    },
    {
      "cell_type": "code",
      "execution_count": null,
      "metadata": {
        "id": "vrEVnK7_pMID"
      },
      "outputs": [],
      "source": [
        "plt.xlabel('Epochs')\n",
        "plt.ylabel(\"Loss Magnitude\")\n",
        "plt.title('Training Loss')\n",
        "plt.plot(history.history['loss'])\n",
        "plt.show()"
      ]
    },
    {
      "cell_type": "code",
      "execution_count": null,
      "metadata": {
        "id": "WBKLWBRaTIjc"
      },
      "outputs": [],
      "source": [
        "psnr_1 = []\n",
        "\n",
        "mse_1 = []\n",
        "\n",
        "\n",
        "A = []\n",
        "A_n = []\n",
        "\n",
        "for i in range (test_dataset.shape[0]):\n",
        "\n",
        "  example = test_dataset[i, :, :, :, :]\n",
        "  \n",
        "  frames = example[:5, :, :, :]\n",
        "  # Pick the last frame from the example\n",
        "  original_frame = example[5:6, :, :, :]\n",
        "\n",
        "  # Predict the last frame.\n",
        "  # Extract the model's prediction and post-process it.\n",
        "\n",
        "  new_prediction = model.predict(np.expand_dims(frames, axis=0))\n",
        "  print(new_prediction.shape)\n",
        "  new_prediction = np.squeeze(new_prediction, axis=0)\n",
        "  print(new_prediction.shape)\n",
        "  predicted_frame = np.expand_dims(new_prediction[-1, ...], axis=0)\n",
        "  print(predicted_frame.shape)\n",
        "  # Construct a figure for the original and new frames.\n",
        "  \n",
        "  print(original_frame.shape)\n",
        "  # Visualizing last frame from an example\n",
        "  plt.imshow(np.squeeze(original_frame), cmap=\"hot\", aspect=\"equal\")\n",
        "  plt.title(f\"Original Frame from Example {i+1}\")\n",
        "  plt.colorbar()\n",
        "  plt.show()\n",
        "\n",
        "\n",
        "  # Plot new frames\n",
        "  print(frames.shape)\n",
        "  new_frame = predicted_frame\n",
        "  print(new_frame.shape)\n",
        "  plt.imshow(np.squeeze(new_frame), cmap=\"hot\", aspect=\"equal\")\n",
        "  plt.title(f\"New Frame for example {i+1}\")\n",
        "  plt.colorbar()\n",
        "  # Display the figure.\n",
        "  plt.show()\n",
        "\n",
        "  A_n.append(new_frame)\n",
        "  A.append(original_frame)\n",
        "  \n",
        " \n",
        "  psnr_1.append(tf.image.psnr(original_frame, new_frame, max_val=1.00))\n",
        "  mse_1.append(tf.keras.metrics.mean_squared_error(\n",
        "  original_frame, new_frame))\n",
        "\n"
      ]
    },
    {
      "cell_type": "code",
      "execution_count": null,
      "metadata": {
        "id": "xIqyC9IYcq6O"
      },
      "outputs": [],
      "source": [
        "psnr_1 = np.array(psnr_1)\n",
        "print(psnr_1.shape)\n",
        "print(np.mean(psnr_1))\n",
        "\n",
        "mse_1 = np.array(mse_1)\n",
        "mse_1 = mse_1.flatten()\n",
        "print(mse_1.shape)\n",
        "print(np.mean(mse_1))\n",
        "\n",
        "rmse_1 = np.sqrt(np.mean(mse_1))\n",
        "print(rmse_1)\n",
        "\n",
        "print(\"The Root Mean Squared Error (RMSE) is \" + str(31.304*rmse_1) + \" degrees Celsius\")"
      ]
    },
    {
      "cell_type": "code",
      "source": [
        "A_n = np.array(A_n)\n",
        "A = np.array(A)\n",
        "\n",
        "print(A_n.shape)\n",
        "print(A.shape)"
      ],
      "metadata": {
        "colab": {
          "base_uri": "https://localhost:8080/"
        },
        "id": "NZmEDadPZVL_",
        "outputId": "ff1eb990-3801-4b4e-b852-2df3d63aa038"
      },
      "execution_count": null,
      "outputs": [
        {
          "output_type": "stream",
          "name": "stdout",
          "text": [
            "(430, 1, 12, 32, 1)\n",
            "(430, 1, 12, 32, 1)\n"
          ]
        }
      ]
    },
    {
      "cell_type": "markdown",
      "source": [
        "To evaluate our model we test the model performance in the four major cities in Crete. We happed their pixel in the GEE platform and the results are as follow."
      ],
      "metadata": {
        "id": "3SJCDjhOucL3"
      }
    },
    {
      "cell_type": "code",
      "source": [
        "B_n = np.array(A_n)\n",
        "B = np.array(A)\n",
        "\n",
        "print(B_n.shape)\n",
        "print(B.shape)\n",
        "\n",
        "\n",
        "B_n = np.swapaxes(A_n, 0, 2)\n",
        "B = np.swapaxes(A, 0, 2)\n",
        "\n",
        "C_n = np.swapaxes(B_n, 1, 3)\n",
        "C = np.swapaxes(B, 1, 3)\n",
        "\n",
        "D_n = np.swapaxes(C_n, 2, 3)\n",
        "D = np.swapaxes(C, 2, 3)\n",
        "\n",
        "print(D_n.shape)\n",
        "print(D.shape)\n",
        "\n",
        "\n",
        "E_n = D_n[5][17][0][:] \n",
        "E = D[5][17][0][:] \n",
        "\n",
        "\n",
        "print(E_n.shape)\n",
        "print(E.shape)\n",
        "\n",
        "K_n = E_n*float(31.304)\n",
        "K = E*float(31.304)\n",
        "\n",
        "T_n = K_n.tolist() \n",
        "T = K.tolist()\n",
        "x = np.linspace(2017,2021,430)\n",
        "\n",
        "plt.plot(x, T, label = \" Temperature\")\n",
        "plt.plot(x, T_n, label = \" Predicted Temperature\")\n",
        "plt.legend(loc = \"best\", fontsize='x-small')\n",
        "plt.xlabel(\"Date (Year)\")\n",
        "# plt.xticks(np.arange(0, 50, 6))\n",
        "plt.xticks(np.around(x), fontweight = 'normal')\n",
        "plt.ylabel(\"Temperature in (\\u00B0C)\")\n",
        "plt.yticks(np.arange(5, 30, 2.5))\n",
        "\n",
        "plt.title(\"Temperature of air 2m at Heraklion\")\n",
        "\n",
        "plt.show()"
      ],
      "metadata": {
        "id": "USpklUzlTb47"
      },
      "execution_count": null,
      "outputs": []
    },
    {
      "cell_type": "code",
      "source": [
        "B_n = np.array(A_n)\n",
        "B = np.array(A)\n",
        "\n",
        "print(B_n.shape)\n",
        "print(B.shape)\n",
        "\n",
        "\n",
        "B_n = np.swapaxes(A_n, 0, 2)\n",
        "B = np.swapaxes(A, 0, 2)\n",
        "\n",
        "C_n = np.swapaxes(B_n, 1, 3)\n",
        "C = np.swapaxes(B, 1, 3)\n",
        "\n",
        "D_n = np.swapaxes(C_n, 2, 3)\n",
        "D = np.swapaxes(C, 2, 3)\n",
        "\n",
        "print(D_n.shape)\n",
        "print(D.shape)\n",
        "\n",
        "\n",
        "E_n = D_n[5][11][0][:]\n",
        "E = D[5][11][0][:]\n",
        "# A_n = np.squeeze(A_n)\n",
        "# A = np.squeeze(A)\n",
        "\n",
        "print(E_n.shape)\n",
        "print(E.shape)\n",
        "\n",
        "T_n = np.array(E_n*float(31.304))\n",
        "T = np.array(E*float(29.26))\n",
        "x = np.linspace(2017,2021,430)\n",
        "\n",
        "plt.plot(x, T, label = \" Temperature\")\n",
        "plt.plot(x, T_n, label = \" Predicted Temperature\")\n",
        "plt.legend(loc = \"upper left\", fontsize='x-small')\n",
        "plt.xlabel(\"Date (Year)\")\n",
        "plt.xticks(np.around(x))\n",
        "plt.ylabel(\"Temperature in (\\u00B0C)\")\n",
        "plt.yticks(np.arange(5, 30, 2.5))\n",
        "plt.title(\"Temperature of air 2m at Rethymno\")\n",
        "plt.show()"
      ],
      "metadata": {
        "id": "0PZd0GOJD4py"
      },
      "execution_count": null,
      "outputs": []
    },
    {
      "cell_type": "code",
      "source": [
        "B_n = np.array(A_n)\n",
        "B = np.array(A)\n",
        "\n",
        "print(B_n.shape)\n",
        "print(B.shape)\n",
        "\n",
        "\n",
        "B_n = np.swapaxes(A_n, 0, 2)\n",
        "B = np.swapaxes(A, 0, 2)\n",
        "\n",
        "C_n = np.swapaxes(B_n, 1, 3)\n",
        "C = np.swapaxes(B, 1, 3)\n",
        "\n",
        "D_n = np.swapaxes(C_n, 2, 3)\n",
        "D = np.swapaxes(C, 2, 3)\n",
        "\n",
        "print(D_n.shape)\n",
        "print(D.shape)\n",
        "\n",
        "\n",
        "E_n = D_n[2][6][0][:]\n",
        "E = D[2][6][0][:]\n",
        "# A_n = np.squeeze(A_n)\n",
        "# A = np.squeeze(A)\n",
        "\n",
        "print(E_n.shape)\n",
        "print(E.shape)\n",
        "\n",
        "T_n = np.array(E_n*float(31.304))\n",
        "T = np.array(E*float(31.304))\n",
        "x = np.linspace(2017,2021,430)\n",
        "\n",
        "plt.plot(x, T, label = \" Temperature\")\n",
        "plt.plot(x, T_n, label = \" Predicted Temperature\")\n",
        "plt.legend(loc = \"lower right\", fontsize='x-small')\n",
        "plt.xlabel(\"Date (Year)\")\n",
        "plt.xticks(np.around(x))\n",
        "plt.ylabel(\"Temperature in (\\u00B0C)\")\n",
        "plt.yticks(np.arange(5, 30, 2.5))\n",
        "plt.title(\"Temperature of air 2m at at Chania\")\n",
        "plt.show()"
      ],
      "metadata": {
        "id": "fj8arLjXEcMZ"
      },
      "execution_count": null,
      "outputs": []
    },
    {
      "cell_type": "code",
      "source": [
        "B_n = np.array(A_n)\n",
        "B = np.array(A)\n",
        "\n",
        "print(B_n.shape)\n",
        "print(B.shape)\n",
        "\n",
        "\n",
        "B_n = np.swapaxes(A_n, 0, 2)\n",
        "B = np.swapaxes(A, 0, 2)\n",
        "\n",
        "C_n = np.swapaxes(B_n, 1, 3)\n",
        "C = np.swapaxes(B, 1, 3)\n",
        "\n",
        "D_n = np.swapaxes(C_n, 2, 3)\n",
        "D = np.swapaxes(C, 2, 3)\n",
        "\n",
        "print(D_n.shape)\n",
        "print(D.shape)\n",
        "\n",
        "\n",
        "E_n = D_n[7][25][0][:]\n",
        "E = D[7][25][0][:]\n",
        "\n",
        "\n",
        "print(E_n.shape)\n",
        "print(E.shape)\n",
        "\n",
        "T_n = np.array(E_n*float(31.304))\n",
        "T = np.array(E*float(31.304))\n",
        "x = np.linspace(2017,2021,430)\n",
        "\n",
        "plt.plot(x,T, label = \" Temperature\")\n",
        "plt.plot(x,T_n, label = \" Predicted Temperature\")\n",
        "plt.legend(loc = \"lower right\", fontsize = \"x-small\" )\n",
        "plt.xlabel(\"Date (Year)\")\n",
        "plt.xticks(np.around(x))\n",
        "plt.ylabel(\"Temperature in (\\u00B0C)\")\n",
        "plt.yticks(np.arange(5, 30, 2.5))\n",
        "plt.title(\"Temperature of air 2m at Ag. Nikolaos\")\n",
        "plt.show()"
      ],
      "metadata": {
        "id": "L7tynK2hE3_J"
      },
      "execution_count": null,
      "outputs": []
    },
    {
      "cell_type": "markdown",
      "source": [
        "We then proceed in making predictions not just a frame ahead of time but 6 frames/months ahead"
      ],
      "metadata": {
        "id": "XDjdpBWvvMFH"
      }
    },
    {
      "cell_type": "code",
      "source": [
        "psnr_frw_pr = []\n",
        "\n",
        "mse_frw_pr = []\n",
        "\n",
        "psnr_frw_pr = []\n",
        "mse_frw_pr = []\n",
        "\n",
        "for k in range (30):\n",
        "\n",
        "  idx = int(np.random.choice(test_dataset.shape[0], size = 1))\n",
        "  print(idx)\n",
        "\n",
        "  if idx <= 430:\n",
        "\n",
        "    frames = videodata[idx:idx+7, :, :, :]\n",
        "    print(frames.shape)\n",
        "\n",
        "    original_frame = videodata[idx+7:idx+8, :, :, :]\n",
        "  \n",
        "  else: \n",
        "\n",
        "    idx = int(np.random.choice(videodata.shape[0], size = 1))\n",
        "    print(idx)\n",
        "\n",
        "  for j in range (6): \n",
        "    print(j)\n",
        "    # Visualizing last frame from an example\n",
        "    plt.imshow(np.squeeze(original_frame), cmap=\"hot\", aspect=\"equal\")\n",
        "    plt.title(f\"Original Frame {idx + 7 + j}\")\n",
        "    plt.colorbar()\n",
        "    plt.show()\n",
        "\n",
        "    # # Predict the last frame.\n",
        "    # # Extract the model's prediction and post-process it.\n",
        "\n",
        "    new_prediction = model.predict(np.expand_dims(frames, axis=0))\n",
        "\n",
        "    new_prediction = np.squeeze(new_prediction, axis=0)\n",
        "\n",
        "    predicted_frame = np.expand_dims(new_prediction[-1, ...], axis=0)\n",
        "\n",
        "\n",
        "    # Plot new frames\n",
        "    new_frame = predicted_frame\n",
        "    print(new_frame.shape)\n",
        "    plt.imshow(np.squeeze(new_frame), cmap=\"hot\", aspect=\"equal\")\n",
        "    plt.title(f\"New Frame {idx + 7 + j}\")\n",
        "    plt.colorbar()\n",
        "    plt.show()\n",
        "\n",
        "    psnr_frw_pr.append(tf.image.psnr(original_frame, new_frame, max_val=1.00))\n",
        "    mse_frw_pr.append(tf.keras.metrics.mean_squared_error(\n",
        "    original_frame, new_frame))\n",
        "\n",
        "    print(frames.shape)\n",
        "    frames = np.concatenate((frames[j+1:j+5], new_frame), axis = 0)\n",
        "    print(frames.shape)\n",
        "\n",
        "\n",
        "print(np.array(psnr_frw_pr))\n",
        "print(np.mean(psnr_frw_pr))\n",
        "print(np.mean(np.array(mse_frw_pr)))\n",
        "print(np.mean(np.sqrt(np.array(mse_frw_pr))))\n",
        "\n"
      ],
      "metadata": {
        "id": "yBkF7ekPYyCD"
      },
      "execution_count": null,
      "outputs": []
    },
    {
      "cell_type": "code",
      "source": [
        "psnr_frw_pr_re = np.reshape(np.array(psnr_frw_pr), [30,6])\n",
        "print(psnr_frw_pr_re.shape)\n",
        "print(psnr_frw_pr_re)\n",
        "\n",
        "\n",
        "for i in range(6):\n",
        "  psnr_2 = np.mean(psnr_frw_pr_re, axis = 0)\n",
        "\n",
        "print(psnr_2.shape)\n",
        "plt.plot(psnr_2)\n",
        "plt.title(\"Peak Signal to Noise Ratio (PSNR) - Frames predicted \")\n",
        "plt.xlabel(\"Number of frames\")\n",
        "plt.ylabel(\"Peak Signal to Noise Ratio (PSNR)\")\n",
        "plt.show()\n",
        "\n",
        "mse_frw_pr_re = np.reshape(np.array(mse_frw_pr), [30,6,12,32])\n",
        "print(mse_frw_pr_re.shape)\n",
        "# mse_re = np.reshape(mse, [48,2,12,32])\n",
        "# print(mse_re.shape)\n",
        "mse_frw_pr_er = np.mean(mse_frw_pr_re, axis = 3)\n",
        "print(mse_frw_pr_er.shape)\n",
        "mse_f = np.mean(mse_frw_pr_er, axis = 2)\n",
        "print(mse_f.shape)\n",
        "mse_2 = np.mean(mse_f, axis = 0)\n",
        "\n",
        "plt.plot(mse_2)\n",
        "plt.title(\"Mean Squared Error (MSE) - Frames predicted\")\n",
        "plt.xlabel(\"Number of frames\")\n",
        "plt.ylabel(\"Mean Squared Error (MSE)\")\n",
        "plt.show()\n",
        "\n",
        "plt.plot(np.sqrt(mse_2)*26.356)\n",
        "plt.title(\"Root Mean Squared Error (RMSE) - Frames predicted\")\n",
        "plt.xlabel(\"Number of frames\")\n",
        "plt.ylabel(\"Root Mean Squared Error (RMSE) in (\\u00B0C)\")\n",
        "plt.show()\n",
        "  "
      ],
      "metadata": {
        "id": "-yzqp9PZwHql"
      },
      "execution_count": null,
      "outputs": []
    },
    {
      "cell_type": "markdown",
      "source": [
        "Finally we evaluate our model to make prediction of a future frame without considering the in between months."
      ],
      "metadata": {
        "id": "pBvjAY1zvSoI"
      }
    },
    {
      "cell_type": "code",
      "execution_count": null,
      "metadata": {
        "id": "_adjiwQ1JIFF"
      },
      "outputs": [],
      "source": [
        "psnr_3 = []\n",
        "\n",
        "mse_3 = []\n",
        "\n",
        "psnr_frame_1 = []\n",
        "\n",
        "psrn_frame_2 = [] \n",
        "\n",
        "for i in range (test_dataset.shape[0]):\n",
        "\n",
        "  example = test_dataset[i, :, :, :, :]\n",
        "  frames = example[:3, :, :, :]\n",
        "  # Pick the last two frames from the example\n",
        "  original_frame_1 = example[3:8, :, :, :]\n",
        "  print(original_frame_1.shape)\n",
        "\n",
        "  for j in range (original_frame_1.shape[0]):\n",
        "\n",
        "    # Extract the model's prediction and post-process it.\n",
        "    new_prediction = model.predict(np.expand_dims(frames, axis=0))\n",
        "    print(new_prediction.shape)\n",
        "    new_prediction = np.squeeze(new_prediction, axis=0)\n",
        "    print(new_prediction.shape)\n",
        "    predicted_frame = np.expand_dims(new_prediction[-1, ...], axis=0)\n",
        "    print(predicted_frame.shape)\n",
        "    new_frame = predicted_frame\n",
        "    print(new_frame.shape)\n",
        "    \n",
        "    plt.imshow(np.squeeze(original_frame_1[j]), cmap=\"hot\", aspect=\"equal\")\n",
        "    plt.title(f\"Original Frame {j + 1} of example {i + 1}\")\n",
        "    plt.colorbar()\n",
        "    plt.show()\n",
        "\n",
        "    plt.imshow(np.squeeze(new_frame), cmap=\"hot\", aspect=\"equal\")\n",
        "    plt.title(f\"New Frame {j + 1} of example {i + 1}\")\n",
        "    plt.colorbar()\n",
        "    plt.show()\n",
        "\n",
        "\n",
        "\n",
        "    psnr_3.append(tf.image.psnr(original_frame_1[j], new_frame, max_val=1.00))\n",
        "    mse_3.append(tf.keras.metrics.mean_squared_error(original_frame_1[j], new_frame))\n"
      ]
    },
    {
      "cell_type": "code",
      "execution_count": null,
      "metadata": {
        "id": "Arfvb1Bwv2Yr",
        "colab": {
          "base_uri": "https://localhost:8080/",
          "height": 938
        },
        "outputId": "33cf5b29-eadd-4cee-f67c-fe5d2ca23d15"
      },
      "outputs": [
        {
          "output_type": "stream",
          "name": "stdout",
          "text": [
            "(2150, 1)\n",
            "(5,)\n"
          ]
        },
        {
          "output_type": "display_data",
          "data": {
            "text/plain": [
              "<Figure size 432x288 with 1 Axes>"
            ],
            "image/png": "[encoded data removed]"
          },
          "metadata": {
            "needs_background": "light"
          }
        },
        {
          "output_type": "stream",
          "name": "stdout",
          "text": [
            "(430, 5, 12, 32)\n",
            "(430, 5, 12)\n",
            "(430, 5)\n"
          ]
        },
        {
          "output_type": "display_data",
          "data": {
            "text/plain": [
              "<Figure size 432x288 with 1 Axes>"
            ],
            "image/png": "[encoded data removed]"
          },
          "metadata": {
            "needs_background": "light"
          }
        },
        {
          "output_type": "display_data",
          "data": {
            "text/plain": [
              "<Figure size 432x288 with 1 Axes>"
            ],
            "image/png": "[encoded data removed]"
          },
          "metadata": {
            "needs_background": "light"
          }
        }
      ],
      "source": [
        "psnr_3 = np.array(psnr_3)\n",
        "print(psnr_3.shape)\n",
        "psnr_3_re = np.reshape(psnr_3, (test_dataset.shape[0], 5))\n",
        "\n",
        "psnr_3_er = np.mean(psnr_3_re, axis = 0)\n",
        "print(psnr_3_er.shape)\n",
        "plt.plot(psnr_3_er)\n",
        "plt.title(\"Peak Signal to Noise Ratio (PSNR) - Frames predicted \")\n",
        "plt.xlabel(\"Number of frames\")\n",
        "plt.ylabel(\"Peak Signal to Noise Ratio (PSNR)\")\n",
        "plt.show()\n",
        "\n",
        "mse_3 = np.array(mse_3)\n",
        "mse_3_re = np.reshape(mse_3, [430,5,12,32])\n",
        "print(mse_3_re.shape)\n",
        "mse_3_er = np.mean(mse_3_re, axis = 3)\n",
        "print(mse_3_er.shape)\n",
        "mse_3_f = np.mean(mse_3_er, axis = 2)\n",
        "print(mse_3_f.shape)\n",
        "mse_3_final = np.mean(mse_3_f, axis = 0)\n",
        "plt.plot(mse_3_final)\n",
        "plt.title(\"Mean Squared Error (MSE) - Frames predicted\")\n",
        "plt.xlabel(\"Number of frames\")\n",
        "plt.ylabel(\"Mean Squared Error (MSE)\")\n",
        "plt.show()\n",
        "\n",
        "plt.plot(np.sqrt(mse_3_final)*31.304)\n",
        "plt.title(\"Root Mean Squared Error (RMSE) - Frames predicted\")\n",
        "plt.xlabel(\"Number of frames\")\n",
        "plt.ylabel(\"Root Mean Squared Error (RMSE) in (\\u00B0C) \")\n",
        "plt.show()"
      ]
    }
  ]
}